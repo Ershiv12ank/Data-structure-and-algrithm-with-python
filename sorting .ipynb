{
 "cells": [
  {
   "cell_type": "code",
   "execution_count": 7,
   "id": "76012065",
   "metadata": {},
   "outputs": [
    {
     "name": "stdout",
     "output_type": "stream",
     "text": [
      "Array without sorting [70, 20, 50, 30, 90, 5, 15]\n",
      "Array after sorting :-[5, 15, 20, 30, 50, 70, 90]\n"
     ]
    }
   ],
   "source": [
    "# bubble sort\n",
    "# create function\n",
    "def bubblesort(arr):\n",
    "    n=len(arr)\n",
    "    for i in range(n):\n",
    "        for j in range(0,n-i-1):\n",
    "            if arr[j]>arr[j+1]:\n",
    "                arr[j],arr[j+1]=arr[j+1],arr[j]\n",
    "    return arr\n",
    "\n",
    "\n",
    "\n",
    "\n",
    "# driver code\n",
    "arr=[70,20,50,30,90,5,15]\n",
    "print(\"Array without sorting\",arr)\n",
    "result=bubblesort(arr)\n",
    "print(f\"Array after sorting :-{result}\")"
   ]
  },
  {
   "cell_type": "code",
   "execution_count": 8,
   "id": "46abcc0a",
   "metadata": {},
   "outputs": [
    {
     "name": "stdout",
     "output_type": "stream",
     "text": [
      "array without any sorting algrithm [12, 56, 87, 98, 54, 32, 45, 2]\n",
      "array after applying selectionsort:- [2, 12, 32, 45, 54, 56, 87, 98]\n"
     ]
    }
   ],
   "source": [
    "# selection sort implementation \n",
    "# finction defination\n",
    "\n",
    "def selectionsort(arr):\n",
    "    n=len(arr)\n",
    "    for i in range(n):\n",
    "        min_index=i\n",
    "        for j in range(i+1,n):\n",
    "            \n",
    "            if arr[j] < arr[min_index]:\n",
    "                min_index=j\n",
    "        arr[i],arr[min_index]=arr[min_index],arr[i] \n",
    "    return arr\n",
    "# deiver code\n",
    "arr=[12,56,87,98,54,32,45,2]\n",
    "print(\"array without any sorting algrithm\",arr)\n",
    "result=selectionsort(arr)\n",
    "print(\"array after applying selectionsort:-\",arr)\n",
    "            \n",
    "        "
   ]
  },
  {
   "cell_type": "code",
   "execution_count": 11,
   "id": "e7fbea12",
   "metadata": {},
   "outputs": [
    {
     "name": "stdout",
     "output_type": "stream",
     "text": [
      "before swaping  [10, 30, 50, 20, 40, 90, 70, 80, 60, 100, 5]\n",
      "after applying insertion sort [5, 10, 20, 30, 40, 50, 60, 70, 80, 90, 100]\n"
     ]
    }
   ],
   "source": [
    "# Insertion sort \n",
    "# time complexcity of insertion sort is o(n^2)\n",
    "def insertion_sort(arr):\n",
    "    n=len(arr)\n",
    "    for i in range(1,n):\n",
    "        j=i-1\n",
    "        key=arr[i]\n",
    "        while j>=0 and key<arr[j]:\n",
    "            arr[j+1]=arr[j]\n",
    "            j=j-1\n",
    "            \n",
    "        arr[j+1]=key\n",
    "    return arr\n",
    "        \n",
    "            \n",
    "            \n",
    "\n",
    "\n",
    "\n",
    "#driver code \n",
    "arr=[10,30,50,20,40,90,70,80,60,100,5]\n",
    "print(\"before swaping \",arr)\n",
    "result=insertion_sort(arr)\n",
    "print(\"after applying insertion sort\" , result)"
   ]
  },
  {
   "cell_type": "code",
   "execution_count": null,
   "id": "9a55d8ab",
   "metadata": {},
   "outputs": [],
   "source": []
  }
 ],
 "metadata": {
  "kernelspec": {
   "display_name": "Python 3 (ipykernel)",
   "language": "python",
   "name": "python3"
  },
  "language_info": {
   "codemirror_mode": {
    "name": "ipython",
    "version": 3
   },
   "file_extension": ".py",
   "mimetype": "text/x-python",
   "name": "python",
   "nbconvert_exporter": "python",
   "pygments_lexer": "ipython3",
   "version": "3.10.6"
  }
 },
 "nbformat": 4,
 "nbformat_minor": 5
}
