{
 "cells": [
  {
   "cell_type": "markdown",
   "id": "54447f1c",
   "metadata": {},
   "source": [
    "### This is program find given three point are colliner a not\n",
    "#### we know that if the area of triangle is zero then the three point are colliner\n",
    "#### area_of_triangle=(0.5)*(x1*(y2-y3)+x2(y3-y1)+x3*(y1-y2)\n",
    "#### anoother way to calculatr \n",
    "#### by using slop method\n",
    "#### if we have a three poiny\n",
    "#### A(x1,y1) , B(x2,y2) , C(x3,y3)\n",
    "#### then \n",
    "####     m1=(y2-y1)/(x2-x1)\n",
    "####    m2=(y3-y2)/(x3-x2)\n",
    "####   m1=m2\n",
    "####   (y2-y1)*(x3-x2)=(x2-x1)*(y3-y2)\n",
    "\n",
    "#### implementation of a program to check given point are colliner or not \n"
   ]
  },
  {
   "cell_type": "code",
   "execution_count": 6,
   "id": "7e509dcc",
   "metadata": {},
   "outputs": [
    {
     "name": "stdout",
     "output_type": "stream",
     "text": [
      "YES it is colliner\n"
     ]
    }
   ],
   "source": [
    "## by using slop method\n",
    "\n",
    "# function defination\n",
    "def is_colliner(x1,x2,x3,y1,y2,y3):\n",
    "    if ((y2-y1)*(x3-x2)==(x2-x1)*(y3-y2)):\n",
    "        print(\"YES it is colliner\")\n",
    "    else:\n",
    "        print(\"NO It is not colliner\")\n",
    "\n",
    "\n",
    "\n",
    "\n",
    "\n",
    "#code driver\n",
    "x1,x2,x3,y1,y2,y3=1,2,3,4,5,6\n",
    "# function call\n",
    "result=is_colliner(x1,x2,x3,y1,y2,y3)"
   ]
  },
  {
   "cell_type": "markdown",
   "id": "87909db7",
   "metadata": {},
   "source": [
    "##### "
   ]
  },
  {
   "cell_type": "code",
   "execution_count": 7,
   "id": "3aa4e0cd",
   "metadata": {},
   "outputs": [
    {
     "name": "stdout",
     "output_type": "stream",
     "text": [
      "NO It is not colliner\n"
     ]
    }
   ],
   "source": [
    "## by using slop method\n",
    "# function defination\n",
    "def is_colliner(x1,x2,x3,y1,y2,y3):\n",
    "    if ((y2-y1)*(x3-x2)==(x2-x1)*(y3-y2)):\n",
    "        print(\"YES it is colliner\")\n",
    "    else:\n",
    "        print(\"NO It is not colliner\")\n",
    "\n",
    "#code driver\n",
    "x1,x2,x3,y1,y2,y3=1,2,3,4,56,6\n",
    "# function call\n",
    "result=is_colliner(x1,x2,x3,y1,y2,y3)"
   ]
  },
  {
   "cell_type": "code",
   "execution_count": 12,
   "id": "f11f86c5",
   "metadata": {},
   "outputs": [
    {
     "name": "stdout",
     "output_type": "stream",
     "text": [
      "NO It is not colliner\n"
     ]
    }
   ],
   "source": [
    "## by using area of triangel method\n",
    "def is_colliner(x1,x2,x3,y1,y2,y3):\n",
    "    area=0.5*(x1*(y2-y3)+x2*(y3-y1)+x3*(y1-y2))\n",
    "    if area==0:\n",
    "        print(\"YES it is colliner\")\n",
    "    else:\n",
    "        print(\"NO It is not colliner\")\n",
    "\n",
    "#code driver\n",
    "x1,x2,x3,y1,y2,y3=1,2,3,4,56,6\n",
    "# function call\n",
    "result=is_colliner(x1,x2,x3,y1,y2,y3)"
   ]
  },
  {
   "cell_type": "code",
   "execution_count": 13,
   "id": "fd623795",
   "metadata": {},
   "outputs": [
    {
     "name": "stdout",
     "output_type": "stream",
     "text": [
      "YES it is colliner\n"
     ]
    }
   ],
   "source": [
    "## by using area of triangel method\n",
    "def is_colliner(x1,x2,x3,y1,y2,y3):\n",
    "    area=0.5*(x1*(y2-y3)+x2*(y3-y1)+x3*(y1-y2))\n",
    "    if area==0:\n",
    "        print(\"YES it is colliner\")\n",
    "    else:\n",
    "        print(\"NO It is not colliner\")\n",
    "\n",
    "#code driver\n",
    "x1,x2,x3,y1,y2,y3=1,2,3,4,5,6\n",
    "# function call\n",
    "result=is_colliner(x1,x2,x3,y1,y2,y3)"
   ]
  },
  {
   "cell_type": "code",
   "execution_count": null,
   "id": "9e1cbf8f",
   "metadata": {},
   "outputs": [],
   "source": []
  }
 ],
 "metadata": {
  "kernelspec": {
   "display_name": "Python 3 (ipykernel)",
   "language": "python",
   "name": "python3"
  },
  "language_info": {
   "codemirror_mode": {
    "name": "ipython",
    "version": 3
   },
   "file_extension": ".py",
   "mimetype": "text/x-python",
   "name": "python",
   "nbconvert_exporter": "python",
   "pygments_lexer": "ipython3",
   "version": "3.10.6"
  }
 },
 "nbformat": 4,
 "nbformat_minor": 5
}
