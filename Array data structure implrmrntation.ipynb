{
 "cells": [
  {
   "cell_type": "code",
   "execution_count": 1,
   "id": "a63affae",
   "metadata": {},
   "outputs": [],
   "source": [
    "# in python array is define as the form of list which is enclosed by square bracket[]\n",
    "arr=[1,2,4,3,5,7,98,8,9]"
   ]
  },
  {
   "cell_type": "code",
   "execution_count": 2,
   "id": "e63049d6",
   "metadata": {},
   "outputs": [
    {
     "data": {
      "text/plain": [
       "7"
      ]
     },
     "execution_count": 2,
     "metadata": {},
     "output_type": "execute_result"
    }
   ],
   "source": [
    "#In array we have a concept of random access \n",
    "arr[5]"
   ]
  },
  {
   "cell_type": "code",
   "execution_count": 8,
   "id": "82ef7ab2",
   "metadata": {},
   "outputs": [
    {
     "name": "stdout",
     "output_type": "stream",
     "text": [
      "serching element present in the index 6\n"
     ]
    }
   ],
   "source": [
    "# now find the index of any number x if x is present on the list then return the index other wise return -1\n",
    "# define the function\n",
    "def linearsearch(arr, x):\n",
    "    for i in range(len(arr)):\n",
    "        if arr[i]==x:\n",
    "            return i\n",
    "    return -1\n",
    "\n",
    "\n",
    "# driver code\n",
    "arr=[1,2,4,3,5,7,98,8,9]\n",
    "x=98\n",
    "# function call\n",
    "result=linearsearch(arr,x)\n",
    "print(\"serching element present in the index\",result)\n"
   ]
  },
  {
   "cell_type": "code",
   "execution_count": 12,
   "id": "e2b6d902",
   "metadata": {},
   "outputs": [],
   "source": [
    "# Add  value five in index 2 \n",
    "# used insert function to add the number in the list \n",
    "# name_of_list.(index , value)\n",
    "arr.insert(2,5)"
   ]
  },
  {
   "cell_type": "code",
   "execution_count": 13,
   "id": "a9abe4cf",
   "metadata": {},
   "outputs": [
    {
     "data": {
      "text/plain": [
       "[1, 2, 5, 5, 4, 3, 5, 7, 98, 8, 9]"
      ]
     },
     "execution_count": 13,
     "metadata": {},
     "output_type": "execute_result"
    }
   ],
   "source": [
    "# print the array\n",
    "arr"
   ]
  },
  {
   "cell_type": "code",
   "execution_count": 14,
   "id": "dee6c05b",
   "metadata": {},
   "outputs": [
    {
     "data": {
      "text/plain": [
       "[1, 2, 5, 5, 4, 3, 5, 7, 98, 8, 9]"
      ]
     },
     "execution_count": 14,
     "metadata": {},
     "output_type": "execute_result"
    }
   ],
   "source": [
    "# deleat the element of array\n",
    "## for delet function used to deleat the array \n",
    "## namr_of_list.remove(value)\n",
    "arr"
   ]
  },
  {
   "cell_type": "code",
   "execution_count": 15,
   "id": "88485f2e",
   "metadata": {},
   "outputs": [],
   "source": [
    "arr.remove(8)"
   ]
  },
  {
   "cell_type": "code",
   "execution_count": 16,
   "id": "fb42a789",
   "metadata": {},
   "outputs": [
    {
     "data": {
      "text/plain": [
       "[1, 2, 5, 5, 4, 3, 5, 7, 98, 9]"
      ]
     },
     "execution_count": 16,
     "metadata": {},
     "output_type": "execute_result"
    }
   ],
   "source": [
    "arr"
   ]
  },
  {
   "cell_type": "code",
   "execution_count": 17,
   "id": "b33caa6b",
   "metadata": {},
   "outputs": [
    {
     "data": {
      "text/plain": [
       "1"
      ]
     },
     "execution_count": 17,
     "metadata": {},
     "output_type": "execute_result"
    }
   ],
   "source": [
    "# count the frequencey of a array we used count function\n",
    "## name_of_list.count(element)\n",
    "arr.count(2)"
   ]
  },
  {
   "cell_type": "code",
   "execution_count": 18,
   "id": "09828108",
   "metadata": {},
   "outputs": [
    {
     "data": {
      "text/plain": [
       "5"
      ]
     },
     "execution_count": 18,
     "metadata": {},
     "output_type": "execute_result"
    }
   ],
   "source": [
    "# delet the element by using the index of the list\n",
    "## we used pop function to remove the element\n",
    "## name_of_list.pop(index)\n",
    "arr.pop(3)"
   ]
  },
  {
   "cell_type": "code",
   "execution_count": 19,
   "id": "79f77d31",
   "metadata": {},
   "outputs": [
    {
     "data": {
      "text/plain": [
       "[1, 2, 5, 4, 3, 5, 7, 98, 9]"
      ]
     },
     "execution_count": 19,
     "metadata": {},
     "output_type": "execute_result"
    }
   ],
   "source": [
    "arr"
   ]
  },
  {
   "cell_type": "code",
   "execution_count": 20,
   "id": "b487f913",
   "metadata": {},
   "outputs": [
    {
     "data": {
      "text/plain": [
       "4"
      ]
     },
     "execution_count": 20,
     "metadata": {},
     "output_type": "execute_result"
    }
   ],
   "source": [
    "arr.pop(3)"
   ]
  },
  {
   "cell_type": "code",
   "execution_count": 21,
   "id": "92ad9c6f",
   "metadata": {},
   "outputs": [
    {
     "data": {
      "text/plain": [
       "[1, 2, 5, 3, 5, 7, 98, 9]"
      ]
     },
     "execution_count": 21,
     "metadata": {},
     "output_type": "execute_result"
    }
   ],
   "source": [
    "arr"
   ]
  },
  {
   "cell_type": "code",
   "execution_count": 22,
   "id": "8bd78aa1",
   "metadata": {},
   "outputs": [],
   "source": [
    "# sort the array\n",
    "## name_a=of_list.sort()\n",
    "arr.sort()"
   ]
  },
  {
   "cell_type": "code",
   "execution_count": 23,
   "id": "b76590c6",
   "metadata": {},
   "outputs": [
    {
     "data": {
      "text/plain": [
       "[1, 2, 3, 5, 5, 7, 9, 98]"
      ]
     },
     "execution_count": 23,
     "metadata": {},
     "output_type": "execute_result"
    }
   ],
   "source": [
    "arr"
   ]
  },
  {
   "cell_type": "code",
   "execution_count": 24,
   "id": "2606bf26",
   "metadata": {},
   "outputs": [],
   "source": [
    "# reverse the array \n",
    "## name_of_array.reverse()\n",
    "arr.reverse()"
   ]
  },
  {
   "cell_type": "code",
   "execution_count": 25,
   "id": "c76941fc",
   "metadata": {},
   "outputs": [
    {
     "data": {
      "text/plain": [
       "[98, 9, 7, 5, 5, 3, 2, 1]"
      ]
     },
     "execution_count": 25,
     "metadata": {},
     "output_type": "execute_result"
    }
   ],
   "source": [
    "arr"
   ]
  },
  {
   "cell_type": "code",
   "execution_count": 26,
   "id": "5d0f3bf6",
   "metadata": {},
   "outputs": [],
   "source": [
    "list=[7,5,4,3,2]"
   ]
  },
  {
   "cell_type": "code",
   "execution_count": 27,
   "id": "78694231",
   "metadata": {},
   "outputs": [],
   "source": [
    "## add the other list in the array\n",
    "## name_of_array.extand(list)\n",
    "arr.extend(list)"
   ]
  },
  {
   "cell_type": "code",
   "execution_count": 28,
   "id": "1e31f75d",
   "metadata": {},
   "outputs": [
    {
     "data": {
      "text/plain": [
       "[98, 9, 7, 5, 5, 3, 2, 1, 7, 5, 4, 3, 2]"
      ]
     },
     "execution_count": 28,
     "metadata": {},
     "output_type": "execute_result"
    }
   ],
   "source": [
    "arr"
   ]
  },
  {
   "cell_type": "code",
   "execution_count": 29,
   "id": "58c62f88",
   "metadata": {},
   "outputs": [],
   "source": [
    "arr.append(list)"
   ]
  },
  {
   "cell_type": "code",
   "execution_count": 30,
   "id": "2aabbc57",
   "metadata": {},
   "outputs": [
    {
     "data": {
      "text/plain": [
       "[98, 9, 7, 5, 5, 3, 2, 1, 7, 5, 4, 3, 2, [7, 5, 4, 3, 2]]"
      ]
     },
     "execution_count": 30,
     "metadata": {},
     "output_type": "execute_result"
    }
   ],
   "source": [
    "arr"
   ]
  },
  {
   "cell_type": "code",
   "execution_count": null,
   "id": "c5f54c3b",
   "metadata": {},
   "outputs": [],
   "source": []
  }
 ],
 "metadata": {
  "kernelspec": {
   "display_name": "Python 3 (ipykernel)",
   "language": "python",
   "name": "python3"
  },
  "language_info": {
   "codemirror_mode": {
    "name": "ipython",
    "version": 3
   },
   "file_extension": ".py",
   "mimetype": "text/x-python",
   "name": "python",
   "nbconvert_exporter": "python",
   "pygments_lexer": "ipython3",
   "version": "3.10.6"
  }
 },
 "nbformat": 4,
 "nbformat_minor": 5
}
