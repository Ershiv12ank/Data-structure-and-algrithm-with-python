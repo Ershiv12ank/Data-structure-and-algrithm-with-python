{
 "cells": [
  {
   "cell_type": "code",
   "execution_count": 1,
   "id": "a400af6d",
   "metadata": {},
   "outputs": [
    {
     "name": "stdout",
     "output_type": "stream",
     "text": [
      "the index of element 68 is 3\n"
     ]
    }
   ],
   "source": [
    "## searching used to find the index of a desire element\n",
    "# linear search of array\n",
    "# create a linearsearch function \n",
    "## it is used to search the element and give us a index\n",
    "def linearsearch(arr, x):\n",
    "    n=len(arr)\n",
    "    for i in range(n):\n",
    "        if arr[i]==x:\n",
    "            return i\n",
    "    return -1 # if element not in the array\n",
    "\n",
    "#given array is \n",
    "array=[12,3,4,68,4,2,1]\n",
    "# search element \n",
    "x=68\n",
    "# calling the function\n",
    "index_of_x=linearsearch(array, x)\n",
    "print(f\"the index of element {x} is {index_of_x}\")\n",
    "\n",
    "## time complexcity of a linear search in worst case is o(n)\n",
    "## space complexcity of a liner search in worst case is o(1)"
   ]
  },
  {
   "cell_type": "code",
   "execution_count": 2,
   "id": "f7d40eca",
   "metadata": {},
   "outputs": [
    {
     "name": "stdout",
     "output_type": "stream",
     "text": [
      "the sercing element 10 in a 9 index \n"
     ]
    }
   ],
   "source": [
    "# biary search \n",
    "# in which requread a sorted array to perform the sorting algorithm \n",
    "## create a function for binary search \n",
    "def binarysearch(arr , i , j , x):\n",
    "    \n",
    "    # i is a starting index of array\n",
    "    #j is the last index of array :\n",
    "    # x is the desire element of the array\n",
    "    while i<j:\n",
    "        mid = i+(j-i)//2\n",
    "        if arr[mid]==x:\n",
    "            return mid\n",
    "        elif arr[mid]<x:\n",
    "            return binarysearch(arr , mid+1 , j , x)\n",
    "        elif arr[mid]>x:\n",
    "            return binarysearch(arr , i , mid-1 , x)\n",
    "   \n",
    "    return -1 # if diser element is not present\n",
    "# driver code\n",
    "arr=[1,2,3,4,5,6,7,8,9,10]\n",
    "i=0\n",
    "j = len(arr)\n",
    "\n",
    "x=10\n",
    "result=binarysearch(arr ,i , j , x)\n",
    "print(f\"the sercing element {x} in a {result} index \")\n",
    "        "
   ]
  },
  {
   "cell_type": "code",
   "execution_count": 3,
   "id": "533c4370",
   "metadata": {},
   "outputs": [],
   "source": [
    "# question: find the first position of infinity of  given array \n",
    "array=[1,2,3,4,5,6,7,0,0,0,0,0,0,0,0,0]"
   ]
  },
  {
   "cell_type": "code",
   "execution_count": 4,
   "id": "aa3fef4d",
   "metadata": {},
   "outputs": [
    {
     "name": "stdout",
     "output_type": "stream",
     "text": [
      "the first zero number in present of index  7\n"
     ]
    }
   ],
   "source": [
    "for i in array:\n",
    "    if array[i]==0:\n",
    "        print(\"the first zero number in present of index \",i)\n",
    "# time complexcity \n",
    "#space complexcity\n",
    "        \n",
    "        "
   ]
  },
  {
   "cell_type": "code",
   "execution_count": 7,
   "id": "df71736e",
   "metadata": {},
   "outputs": [
    {
     "name": "stdout",
     "output_type": "stream",
     "text": [
      "True\n"
     ]
    }
   ],
   "source": [
    "# question:given a 2 d array searching element x if x persrent in the array return true otherwise return false\n",
    "## in array is a row wise sorted form\n",
    "##first integer of array of each row is greater then last integer of previous row\n",
    "#### define function \n",
    "def binary_search_2d(matrix,x):\n",
    "    m=len(matrix)\n",
    "    n=len(matrix[0])\n",
    "    if m==0:\n",
    "        return False\n",
    "    left,right =0,m*n-1\n",
    "    while left<=right:\n",
    "        \n",
    "        mid=left+(right-left)//2\n",
    "        row=mid//n\n",
    "        column=mid%n\n",
    "        mid_element=matrix[row][column]\n",
    "        if mid_element==x:\n",
    "            return True\n",
    "        elif mid_element<x:\n",
    "            left=mid+1\n",
    "        else:\n",
    "            right=mid-1\n",
    "    return False\n",
    "        \n",
    "\n",
    "\n",
    "\n",
    "\n",
    "\n",
    "\n",
    "\n",
    "\n",
    "#driver code\n",
    "matrix=[[1,2,3,4],[7,8,9,10],[15,16,17,18]]\n",
    "x=18\n",
    "\n",
    "result=binary_search_2d(matrix,x)\n",
    "print(result)"
   ]
  },
  {
   "cell_type": "code",
   "execution_count": null,
   "id": "5a2fa93f",
   "metadata": {},
   "outputs": [],
   "source": []
  },
  {
   "cell_type": "code",
   "execution_count": null,
   "id": "f40677f1",
   "metadata": {},
   "outputs": [],
   "source": []
  }
 ],
 "metadata": {
  "kernelspec": {
   "display_name": "Python 3 (ipykernel)",
   "language": "python",
   "name": "python3"
  },
  "language_info": {
   "codemirror_mode": {
    "name": "ipython",
    "version": 3
   },
   "file_extension": ".py",
   "mimetype": "text/x-python",
   "name": "python",
   "nbconvert_exporter": "python",
   "pygments_lexer": "ipython3",
   "version": "3.10.6"
  }
 },
 "nbformat": 4,
 "nbformat_minor": 5
}
